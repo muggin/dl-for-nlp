{
 "cells": [
  {
   "cell_type": "code",
   "execution_count": null,
   "metadata": {
    "collapsed": true
   },
   "outputs": [],
   "source": [
    "from __future__ import division\n",
    "import math\n",
    "import numpy as np\n",
    "import matplotlib.pyplot as plt"
   ]
  },
  {
   "cell_type": "markdown",
   "metadata": {},
   "source": [
    "## word2vec Subsampling Frequent Words"
   ]
  },
  {
   "cell_type": "markdown",
   "metadata": {},
   "source": [
    "Each word in the training set is discarded with the probability computed by the form: $P(w_i) = 1 - \\sqrt{\\frac{threshold}{freq(w_i)}}$"
   ]
  },
  {
   "cell_type": "code",
   "execution_count": null,
   "metadata": {
    "collapsed": true
   },
   "outputs": [],
   "source": [
    "def prob_func_factory(threshold):\n",
    "    return lambda freq: max(0, 1 - math.sqrt(threshold / freq))"
   ]
  },
  {
   "cell_type": "code",
   "execution_count": null,
   "metadata": {},
   "outputs": [],
   "source": [
    "thresholds = [1e-5, 1e-4, 1e-3]\n",
    "\n",
    "for threshold in thresholds:\n",
    "    prob_fn = prob_func_factory(threshold)\n",
    "    freqs = range(1, 1000000, 2500)\n",
    "    freqs_sum = float(sum(freqs))\n",
    "    freqs = [freq / freqs_sum for freq in freqs]\n",
    "    probs = [prob_fn(freq) for freq in freqs]\n",
    "    \n",
    "    plt.semilogx(freqs, probs, label=threshold)\n",
    "    \n",
    "plt.ylabel('Prob of word being removed')\n",
    "plt.xlabel('Occurences of word')\n",
    "plt.legend(loc='upper left'); plt.grid(); plt.show()"
   ]
  },
  {
   "cell_type": "markdown",
   "metadata": {},
   "source": [
    "This formula was chosen because it aggresively subsamples words whose frequency is higher than the set threshold."
   ]
  },
  {
   "cell_type": "markdown",
   "metadata": {
    "collapsed": true
   },
   "source": [
    "## Trump dataset processing"
   ]
  },
  {
   "cell_type": "code",
   "execution_count": null,
   "metadata": {
    "collapsed": true
   },
   "outputs": [],
   "source": [
    "import os\n",
    "import re\n",
    "import nltk\n",
    "import csv\n",
    "import numpy\n",
    "import string\n",
    "import codecs\n",
    "import pandas"
   ]
  },
  {
   "cell_type": "code",
   "execution_count": null,
   "metadata": {},
   "outputs": [],
   "source": [
    "# filepaths\n",
    "CORPORA_DIR = './corpora/presidential-transcripts-raw/'\n",
    "CLEAN_FILE_NAME = './corpora/presidential-clean.txt'\n",
    "\n",
    "# regexps\n",
    "with codecs.open(CLEAN_FILE_NAME, 'w', encoding='ascii', errors='ignore') as out:\n",
    "    for root_dir, dirs, files in os.walk(CORPORA_DIR):\n",
    "        print 'Exploring: ', root_dir\n",
    "        for file_name in files:\n",
    "            if not re.match('\\.DS_Store', file_name):\n",
    "                file_path = os.path.join(root_dir, file_name)\n",
    "                with open(file_path) as fd:\n",
    "                    # read entire file\n",
    "                    raw_content = [line.decode('ascii', errors='replace') for line in fd.readlines()]\n",
    "\n",
    "                    # translate to lowercase\n",
    "                    lower_contents = [text.lower() for text in raw_content]\n",
    "\n",
    "                    # tokenizer speech into sentences\n",
    "                    for fragment in lower_contents:\n",
    "                        [out.write(line.strip() + '\\n') for line in nltk.tokenize.sent_tokenize(fragment)]"
   ]
  },
  {
   "cell_type": "code",
   "execution_count": null,
   "metadata": {},
   "outputs": [],
   "source": [
    "# filepaths\n",
    "CORPORA_DIR = './corpora/reviews/'\n",
    "CLEAN_FILE_NAME = './corpora/reviews-clean.txt'\n",
    "\n",
    "# regexps\n",
    "with codecs.open(CLEAN_FILE_NAME, 'w', encoding='ascii', errors='ignore') as out:\n",
    "    for root_dir, dirs, files in os.walk(CORPORA_DIR):\n",
    "        print 'Exploring: ', root_dir\n",
    "        for file_name in files:\n",
    "            if not re.match('\\.DS_Store', file_name):\n",
    "                file_path = os.path.join(root_dir, file_name)\n",
    "                \n",
    "                with open(file_path) as fd:\n",
    "                    csv_reader = csv.reader(fd)\n",
    "                    next(csv_reader, None)\n",
    "                    # read and decodeentire file\n",
    "                    raw_content = [row[-1].decode('utf8', errors='replace') for row in csv_reader]\n",
    "                    \n",
    "                    # remove new lines\n",
    "                    clean_content = [re.sub(r'[\\n\\r ]+', ' ', line) for line in raw_content]\n",
    "\n",
    "                    # translate to lowercase\n",
    "                    lower_contents = [text.lower() for text in raw_content]\n",
    "\n",
    "                    # tokenizer speech into sentences\n",
    "                    for fragment in lower_contents:\n",
    "                        [out.write(line.strip() + '\\n') for line in nltk.tokenize.sent_tokenize(fragment)]"
   ]
  },
  {
   "cell_type": "code",
   "execution_count": null,
   "metadata": {
    "collapsed": true
   },
   "outputs": [],
   "source": []
  }
 ],
 "metadata": {
  "kernelspec": {
   "display_name": "Python 2",
   "language": "python",
   "name": "python2"
  },
  "language_info": {
   "codemirror_mode": {
    "name": "ipython",
    "version": 2
   },
   "file_extension": ".py",
   "mimetype": "text/x-python",
   "name": "python",
   "nbconvert_exporter": "python",
   "pygments_lexer": "ipython2",
   "version": "2.7.13"
  }
 },
 "nbformat": 4,
 "nbformat_minor": 2
}
