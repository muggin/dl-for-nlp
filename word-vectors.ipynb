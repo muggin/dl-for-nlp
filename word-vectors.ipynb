{
 "cells": [
  {
   "cell_type": "code",
   "execution_count": 1,
   "metadata": {
    "collapsed": true
   },
   "outputs": [],
   "source": [
    "from __future__ import division\n",
    "\n",
    "import re\n",
    "import math\n",
    "import nltk\n",
    "import string\n",
    "import random\n",
    "import numpy as np\n",
    "import itertools as it\n",
    "import tensorflow as tf\n",
    "import cPickle as pickle\n",
    "import scipy.sparse as ss\n",
    "import matplotlib.pyplot as plt\n",
    "\n",
    "from tqdm import tqdm\n",
    "from collections import Counter\n",
    "from sklearn.manifold import TSNE\n",
    "from sklearn.decomposition import PCA"
   ]
  },
  {
   "cell_type": "code",
   "execution_count": 2,
   "metadata": {
    "collapsed": true
   },
   "outputs": [],
   "source": [
    "def load_corpus(file_path):\n",
    "    \"\"\" Load corpus from text file and tokenize \"\"\"\n",
    "    corpus = []\n",
    "    vocab_cnt = Counter()\n",
    "    tokenizer = nltk.tokenize.WhitespaceTokenizer()\n",
    "    \n",
    "    with open(file_path) as fd:\n",
    "        for line in fd:\n",
    "            # clean lines from any punctuation characters\n",
    "            clean_line = re.sub('[\\+\\-\\.\\,\\:\\;\\\"\\?\\!\\>\\<\\=\\(\\)\\n]+', '', line)\n",
    "            tokens = tokenizer.tokenize(clean_line.lower())\n",
    "            corpus.append(tokens)\n",
    "            vocab_cnt.update(tokens)\n",
    "            \n",
    "    return corpus, vocab_cnt\n",
    "\n",
    "\n",
    "def code_tokens(vocab_cnt, corpus_size, min_occurrence=10, subsampling_t=1e-5, unk_symbol='<unk>'):\n",
    "    \"\"\" Filter vocabulary and encode tokens \"\"\"\n",
    "    vocab = ['<unk>']\n",
    "    \n",
    "    # filter vocabulary with min_occurrences and subsampling\n",
    "    for token, count in vocab_cnt.iteritems():\n",
    "        token_prob = max(1 - math.sqrt(subsampling_t / (count / float(corpus_size))), 0)\n",
    "        if count >= min_occurrence and np.random.rand() > token_prob:\n",
    "            vocab.append(token)\n",
    "    vocab_enc = {token: ix for ix, token in enumerate(vocab)}\n",
    "    vocab_dec = {ix: token for token, ix in vocab_enc.iteritems()}\n",
    "    \n",
    "    return vocab, vocab_enc, vocab_dec\n",
    "\n",
    "\n",
    "def generate_cooc_data(corpus, window_size=5, bidir_window=True):\n",
    "    \"\"\" Generate data with context in format (target, context, distance) \"\"\"\n",
    "    for center_ix, center_val in enumerate(corpus):\n",
    "        left_context = corpus[max(0, center_ix - window_size): center_ix]\n",
    "        left_context_len = len(left_context)\n",
    "        right_context = corpus[center_ix + 1: center_ix + window_size + 1]\n",
    "        right_context_len = len(right_context)\n",
    "\n",
    "        for context_ix, context_val in enumerate(left_context):\n",
    "            distance = left_context_len - context_ix\n",
    "            yield (center_val, context_val, distance)\n",
    "\n",
    "        if bidir_window:\n",
    "            for context_ix, context_val in enumerate(right_context):\n",
    "                distance = context_ix + 1\n",
    "                yield (center_val, context_val, distance)\n",
    "                    \n",
    "                    \n",
    "# WEIGHTING FUNCTIONS\n",
    "uniform_weight = lambda distance, length: 1.0\n",
    "# proposed by Pennington, used for GloVe\n",
    "harmonic_weight = lambda distance, length: 1.0 / distance\n",
    "# proposed by Mikolov, used for word2vec\n",
    "fraction_weight = lambda distance, length: float(distance) / length\n",
    "\n",
    "def build_cooc_matrix(data_generator, vocab_size, window_size, weight_fn=uniform_weight):\n",
    "    \"\"\" Build sparse cooccurrence matrix \"\"\"\n",
    "    cooc_matrix = ss.lil_matrix((vocab_size, vocab_size), dtype=np.float64)\n",
    "    \n",
    "    for target, context, distance in data_generator:\n",
    "        cooc_matrix[target, context] += weight_fn(distance, window_size)\n",
    "    return cooc_matrix.tocoo()\n",
    "\n",
    "\n",
    "def iterate_sparse_matrix(sparse_matrix):\n",
    "    \"\"\" Iterate a sparse COO matrix \"\"\"\n",
    "    return zip(sparse_matrix.row, sparse_matrix.col, sparse_matrix.data)\n",
    "\n",
    "\n",
    "def generate_context_data(corpus, max_window_size=5, skip_size=1, flatten=True):\n",
    "    \"\"\" Generate data with context in format (target, [contexts]) or (target, context) \"\"\"\n",
    "    for center_ix in xrange(max_window_size, len(corpus)-max_window_size, skip_size):\n",
    "        # sample a window size for the given center word\n",
    "        window_size = np.random.randint(max_window_size) + 1\n",
    "        full_context = corpus[center_ix-window_size:center_ix] + corpus[center_ix+1: center_ix+window_size+1]\n",
    "        \n",
    "        if flatten:\n",
    "            for context_ix in xrange(2*window_size):\n",
    "                yield (corpus[center_ix], full_context[context_ix])\n",
    "        else:\n",
    "            yield(corpus[center_ix], full_context)\n",
    "                \n",
    "                \n",
    "def batchify_data(data_generator, batch_size):\n",
    "    \"\"\" Split dataset (generator) into batches \"\"\"\n",
    "    if isinstance(data_generator, list):\n",
    "        for ix in xrange(0, len(data_generator), batch_size):\n",
    "            yield zip(*data_generator[ix:ix+batch_size])\n",
    "    else:\n",
    "        while data_generator:\n",
    "            buff = []\n",
    "            for ix in xrange(0, batch_size):\n",
    "                buff.append(next(data_generator))\n",
    "            yield zip(*buff)\n",
    "\n",
    "\n",
    "def save_embeddings(embeddings_obj, file_name):\n",
    "    \"\"\" Save word embeddings and helper structures \"\"\"\n",
    "    with open(file_name, 'wb') as fd:\n",
    "        pickle.dump(embeddings_obj, fd)\n",
    "    \n",
    "\n",
    "def load_embeddings(file_name):\n",
    "    \"\"\" Load word embeddings and helper structures \"\"\"\n",
    "    with open(file_name, 'r') as fd:\n",
    "        embeddings_obj = pickle.load(fd)\n",
    "    return embeddings_obj\n",
    "    \n",
    "    \n",
    "def get_tsne_embeddings(embedding_matrix):\n",
    "    \"\"\" Compute t-SNE representation of embeddings \"\"\"\n",
    "    tsne = TSNE(perplexity=25, n_components=2, init='pca', n_iter=5000)\n",
    "    return tsne.fit_transform(embedding_matrix)\n",
    "\n",
    "\n",
    "def get_pca_embeddings(embedding_matrix):\n",
    "    \"\"\" Compute PCA representation of embeddings \"\"\"\n",
    "    pca = PCA(n_components=2)\n",
    "    return pca.fit_transform(embedding_matrix)\n",
    "\n",
    "\n",
    "def plot_embeddings(embeddings, words=[], words_cnt=500, method='pca', figsize=(8,8)):\n",
    "    \"\"\" Plot subset of embeddings in 2D space using t-SNE or PCA \"\"\"\n",
    "    embedding_matrix = embeddings._embeddings\n",
    "    vocab_dec = embeddings._vocab_dec\n",
    "    vocab_enc = embeddings._vocab_enc\n",
    "    \n",
    "    # prepare data\n",
    "    if not words:\n",
    "        vocab_size = embedding_matrix.shape[0]\n",
    "        ixs = range(vocab_size)\n",
    "        random.shuffle(ixs)\n",
    "        chosen_ixs = ixs[:words_cnt]\n",
    "        labels = [vocab_dec[ix] for ix in chosen_ixs]\n",
    "        word_vecs = embedding_matrix[chosen_ixs]\n",
    "    else:\n",
    "        labels = words\n",
    "        chosen_ixs = [vocab_enc[word] for word in words]\n",
    "        word_vecs = embedding_matrix[chosen_ixs]\n",
    "        \n",
    "    if method == 'tsne':\n",
    "        low_dim_embeddings = get_tsne_embeddings(word_vecs)\n",
    "    else:\n",
    "        low_dim_embeddings = get_pca_embeddings(word_vecs)\n",
    "        \n",
    "    # plot reduced vectors\n",
    "    plt.figure(figsize=figsize)\n",
    "    \n",
    "    for embedding, label in zip(low_dim_embeddings, labels):\n",
    "        x, y = embedding[0], embedding[1]\n",
    "        plt.scatter(x, y)\n",
    "        plt.annotate(label, xy=(x, y), xytext=(5, 2), \n",
    "                     textcoords='offset points', ha='right', \n",
    "                     va='bottom')\n",
    "    plt.yticks=[]\n",
    "    plt.xticks=[]\n",
    "    plt.grid()\n",
    "    plt.show()\n",
    "    \n",
    "\n",
    "class Embeddings(object):\n",
    "    \"\"\" Class wrapping word embeddings \"\"\"\n",
    "    def __init__(self, embedding_matrix, vocab_enc, vocab_dec):\n",
    "        self._embeddings = embedding_matrix\n",
    "        self._vocab_enc = vocab_enc\n",
    "        self._vocab_dec = vocab_dec\n",
    "    \n",
    "    def find_embedding(self, word):\n",
    "        \"\"\" Find embedding for a given word \"\"\"\n",
    "        if isinstance(word, str):\n",
    "            word = self._vocab_enc[word]\n",
    "        return self._embeddings[word]\n",
    "    \n",
    "    def find_neighbors(self, word, k=5, nearest=True, exclude=[], include_scores=False):\n",
    "        \"\"\" Find neighboring words (semantic regularities) \"\"\"\n",
    "        word_ix = self._vocab_enc[word]\n",
    "        exclude = exclude + [word_ix]\n",
    "        \n",
    "        # find neighbors\n",
    "        word_emb = self._embeddings[word_ix]\n",
    "        similarities = self._embeddings.dot(word_emb)\n",
    "        similarities[exclude] = 0\n",
    "        best_matches = np.argsort(similarities)\n",
    "        trimmed_matches = best_matches[-k:][::-1] if nearest else best_matches[:k]\n",
    "        return [(self._vocab_dec[word_ix], similarities[word_ix]) for word_ix in trimmed_matches]\n",
    "    \n",
    "    def find_analogous(self, word_a, word_b, word_c, k=5):\n",
    "        \"\"\" Find analogous word (syntactic regularities: word_a - word_b = x - word_c) \"\"\"\n",
    "        word_a_ix, word_b_ix, word_c_ix = [self._vocab_enc[word] for word in [word_a, word_b, word_c]]\n",
    "        exclude = [word_a_ix, word_b_ix, word_c_ix]\n",
    "        \n",
    "        emb_a = self.find_embedding(word_a_ix) \n",
    "        emb_b = self.find_embedding(word_b_ix) \n",
    "        emb_c = self.find_embedding(word_c_ix) \n",
    "        emb_d_hat = emb_a - emb_b + emb_c\n",
    "        similarities = self._embeddings.dot(emb_d_hat)\n",
    "        similarities[exclude] = 0\n",
    "        best_matches = np.argsort(similarities)\n",
    "        trimmed_matches = best_matches[-k:][::-1]\n",
    "        return [(self._vocab_dec[word_ix], similarities[word_ix]) for word_ix in trimmed_matches]\n",
    "    \n",
    "    def vocab(self):\n",
    "        \"\"\" Return vocabulary list \"\"\"\n",
    "        return self._vocab_enc.keys()"
   ]
  },
  {
   "cell_type": "markdown",
   "metadata": {},
   "source": [
    "## Load Corpus"
   ]
  },
  {
   "cell_type": "code",
   "execution_count": 3,
   "metadata": {},
   "outputs": [
    {
     "name": "stdout",
     "output_type": "stream",
     "text": [
      "Corpus size (total tokens): 47\n",
      "Corpus vocabulary size (distinct tokens): 19\n",
      "Most popular words: [('graph', 5), ('trees', 5), ('i', 4), ('system', 4), ('user', 3)]\n"
     ]
    },
    {
     "data": {
      "image/png": "[encoded data removed]",
      "text/plain": [
       "<matplotlib.figure.Figure at 0x103396ed0>"
      ]
     },
     "metadata": {},
     "output_type": "display_data"
    }
   ],
   "source": [
    "#TEXT_FILE = './corpora/trump-clean.txt'\n",
    "#TEXT_FILE = './corpora/presidential-clean.txt'\n",
    "#TEXT_FILE = './corpora/reviews-clean.txt'\n",
    "#TEXT_FILE = './corpora/reviews-clean-small.txt'\n",
    "#TEXT_FILE = './corpora/reviews-clean-xsmall.txt'\n",
    "TEXT_FILE = './corpora/amund.txt'\n",
    "\n",
    "# LOAD CORPUS AND SHOW STATS\n",
    "corpus, vocab_cnt = load_corpus(TEXT_FILE)\n",
    "raw_corpus_size = sum(vocab_cnt.itervalues())\n",
    "raw_vocab_size = len(vocab_cnt)\n",
    "\n",
    "print 'Corpus size (total tokens):', raw_corpus_size\n",
    "print 'Corpus vocabulary size (distinct tokens):', raw_vocab_size\n",
    "print 'Most popular words:', vocab_cnt.most_common(5)\n",
    "\n",
    "# visualize distribution\n",
    "counts = sorted(vocab_cnt.itervalues(), reverse=True)\n",
    "plt.semilogy(range(len(counts)), counts)\n",
    "plt.title('Distribution of token occurences')\n",
    "plt.xlabel('Token')\n",
    "plt.ylabel('Occurences')\n",
    "plt.grid()\n",
    "plt.show()"
   ]
  },
  {
   "cell_type": "code",
   "execution_count": 4,
   "metadata": {},
   "outputs": [
    {
     "name": "stdout",
     "output_type": "stream",
     "text": [
      "Clean corpus size (w/o less freq words): 47\n",
      "Clean vocabulary size (w/o less freq words): 20\n"
     ]
    }
   ],
   "source": [
    "# FILTER LESS POPULAR TOKENS AND ENCODE TOKENS\n",
    "MIN_OCC = 0\n",
    "vocab, vocab_enc, vocab_dec = code_tokens(vocab_cnt, raw_corpus_size, min_occurrence=MIN_OCC, subsampling_t=1e-0)\n",
    "vocab_size = len(vocab)\n",
    "corpus_enc = [vocab_enc[word] for sentence in corpus for word in sentence if word in vocab_enc]\n",
    "#del corpus # for memory saving\n",
    "\n",
    "print 'Clean corpus size (w/o less freq words):', len(corpus_enc)\n",
    "print 'Clean vocabulary size (w/o less freq words):', vocab_size"
   ]
  },
  {
   "cell_type": "markdown",
   "metadata": {},
   "source": [
    "## word2vec"
   ]
  },
  {
   "cell_type": "code",
   "execution_count": null,
   "metadata": {
    "collapsed": true
   },
   "outputs": [],
   "source": [
    "class word2vec(object):\n",
    "    def __init__(self, embed_size, vocab_size, batch_size=128, num_neg_samples=64):\n",
    "        self._embed_size = embed_size\n",
    "        self._vocab_size = vocab_size\n",
    "        self._batch_size = batch_size\n",
    "        self._num_neg_samples = num_neg_samples\n",
    "        \n",
    "    def _setup_variables(self, learning_rate):\n",
    "        self._graph = tf.Graph()\n",
    "        \n",
    "        with self._graph.as_default():\n",
    "            # declare input/output placeholders\n",
    "            self._target_labels = tf.placeholder(tf.int32, shape=[self._batch_size], name='target_labels')\n",
    "            self._context_labels = tf.placeholder(tf.int32, shape=[self._batch_size, 1], name='context_labels')\n",
    "            \n",
    "            # declare weight/embedding matrices\n",
    "            embeddings = tf.Variable(tf.random_uniform([self._vocab_size, self._embed_size], 1.0, -1.0),\n",
    "                                       name='input_embeddings')\n",
    "            softmax_w = tf.Variable(tf.truncated_normal([self._vocab_size, self._embed_size], stddev=1.0/math.sqrt(self._embed_size)), \n",
    "                                        name='softmax_weights')\n",
    "            softmax_b = tf.Variable(tf.zeros([self._vocab_size]), name='softmax_biases')\n",
    "            \n",
    "            \n",
    "            # lookup target/context embeddings\n",
    "            target_embeds = tf.nn.embedding_lookup(embeddings, self._target_labels)\n",
    "            \n",
    "            # skip-gram negative sampling loss\n",
    "            individual_losses = tf.nn.sampled_softmax_loss(softmax_w, softmax_b, self._context_labels, \n",
    "                                                           target_embeds, self._num_neg_samples, \n",
    "                                                           self._vocab_size)\n",
    "            \n",
    "            # average loss in the batch\n",
    "            self._total_loss = tf.reduce_mean(individual_losses)\n",
    "            \n",
    "            # setup optimizer and logging\n",
    "            self._optimizer = tf.train.AdagradOptimizer(learning_rate).minimize(self._total_loss)\n",
    "            \n",
    "            # misc settings\n",
    "            norm = tf.sqrt(tf.reduce_sum(tf.square(embeddings), 1, keep_dims=True))\n",
    "            self._normalized_embeddings = embeddings / norm\n",
    "            \n",
    "            tf.summary.scalar(\"Skipgram_loss\", self._total_loss)\n",
    "            self._summary = tf.summary.merge_all()\n",
    "            \n",
    "    def train(self, data, max_epochs=25, learning_rate=0.05, window_size=5, skip_size=2, log_dir='./logs'):\n",
    "        print 'Initializing variables...'\n",
    "        self._setup_variables(learning_rate)\n",
    "        \n",
    "        training_step = 0\n",
    "        with tf.Session(graph=self._graph) as session:\n",
    "            tf.global_variables_initializer().run()\n",
    "            summary_writer = tf.summary.FileWriter(log_dir, graph=session.graph)\n",
    "            \n",
    "            for epoch in xrange(max_epochs):\n",
    "                data_generator = generate_context_data(data, window_size, skip_size)\n",
    "                data_batches = list(batchify_data(data_generator, self._batch_size))\n",
    "                random.shuffle(data_batches)\n",
    "                \n",
    "                epoch_loss, batch_count = 0, 0\n",
    "                for targets, contexts in tqdm(data_batches):\n",
    "                    if len(targets) != self._batch_size: continue\n",
    "                    \n",
    "                    targets = np.array(targets)\n",
    "                    contexts = np.array(contexts).reshape(-1, 1)\n",
    "                        \n",
    "                    feed_dict = {\n",
    "                        self._target_labels: targets,\n",
    "                        self._context_labels: contexts,\n",
    "                    }\n",
    "                    _, total_loss, summary_str = session.run([self._optimizer, self._total_loss, \n",
    "                                                              self._summary], feed_dict=feed_dict)\n",
    "                    \n",
    "                    if training_step % 5000 == 0: summary_writer.add_summary(summary_str, training_step)\n",
    "                        \n",
    "                    epoch_loss += total_loss\n",
    "                    batch_count += 1\n",
    "                    training_step += 1\n",
    "                tqdm.write('Epoch {} - avg loss: {}'.format(epoch, epoch_loss / batch_count))\n",
    "                self.word_embeddings = self._normalized_embeddings.eval()\n",
    "                \n",
    "            # combine and store word embeddings\n",
    "            self.word_embeddings = self._normalized_embeddings.eval()"
   ]
  },
  {
   "cell_type": "markdown",
   "metadata": {},
   "source": [
    "#### Train and Inspect"
   ]
  },
  {
   "cell_type": "code",
   "execution_count": null,
   "metadata": {
    "collapsed": true
   },
   "outputs": [],
   "source": [
    "WINDOW_SIZE = 5\n",
    "SKIP_SIZE = 1\n",
    "MAX_EPOCHS = 5\n",
    "BATCH_SIZE = 256\n",
    "EMBED_SIZE = 50\n",
    "LEARNING_RATE = 1.0\n",
    "VOCAB_SIZE = len(vocab)\n",
    "\n",
    "skipgram = word2vec(EMBED_SIZE, VOCAB_SIZE, batch_size=BATCH_SIZE)\n",
    "skipgram.train(corpus_enc, MAX_EPOCHS, LEARNING_RATE)"
   ]
  },
  {
   "cell_type": "code",
   "execution_count": null,
   "metadata": {
    "collapsed": true
   },
   "outputs": [],
   "source": [
    "emb_w2v = Embeddings(skipgram.word_embeddings, vocab_enc, vocab_dec)\n",
    "print emb_w2v.find_neighbors('sun', nearest=True)\n",
    "print emb_w2v.find_analogous('easiest', 'easy', 'good')"
   ]
  },
  {
   "cell_type": "code",
   "execution_count": null,
   "metadata": {
    "collapsed": true
   },
   "outputs": [],
   "source": [
    "plot_embeddings(skipgram.word_embeddings, vocab_dec, 100)"
   ]
  },
  {
   "cell_type": "code",
   "execution_count": null,
   "metadata": {
    "collapsed": true
   },
   "outputs": [],
   "source": [
    "file_name = 'w2v-airs-{}ep-{}lr-{}win-{}sk-{}bat-{}emb.em'.format(MAX_EPOCHS, LEARNING_RATE, WINDOW_SIZE, SKIP_SIZE, BATCH_SIZE, EMBED_SIZE)\n",
    "save_embeddings(emb_w2v, file_name)"
   ]
  },
  {
   "cell_type": "code",
   "execution_count": null,
   "metadata": {
    "collapsed": true
   },
   "outputs": [],
   "source": [
    "for x in tqdm(xrange(5)): pass"
   ]
  },
  {
   "cell_type": "markdown",
   "metadata": {},
   "source": [
    "## GloVe"
   ]
  },
  {
   "cell_type": "code",
   "execution_count": 6,
   "metadata": {
    "collapsed": true
   },
   "outputs": [],
   "source": [
    "class GloVe(object):\n",
    "    def __init__(self, embed_size, vocab_size, batch_size=256, alpha_factor=0.75, occur_max=100, \n",
    "                 window_size=10, bidir_window=True):\n",
    "        self.embed_size = embed_size\n",
    "        self.vocab_size = vocab_size\n",
    "        self.batch_size = batch_size\n",
    "        \n",
    "        self.alpha_factor = alpha_factor\n",
    "        self.occur_max = occur_max\n",
    "        self.window_size = window_size\n",
    "        self.bidir_window = True\n",
    "        \n",
    "    def _setup_variables(self, learning_rate):\n",
    "        self._graph = tf.Graph()\n",
    "        \n",
    "        with self._graph.as_default():\n",
    "            # declare model constants\n",
    "            # threshold of occurrences for the cost fn. weighting factor\n",
    "            occur_max = tf.constant([self.occur_max], shape=[self.batch_size], \n",
    "                                    dtype=tf.float32, name='max_occurrences')\n",
    "            # exponent of the cost fn. weighting factor\n",
    "            alpha_factor = tf.constant([self.alpha_factor], dtype=tf.float32,\n",
    "                                       name='alpha_factor')\n",
    "        \n",
    "            # declare input/output placeholders\n",
    "            self._target_words = tf.placeholder(tf.int32, shape=[self.batch_size],\n",
    "                                              name='target_words')\n",
    "            self._context_words = tf.placeholder(tf.int32, shape=[self.batch_size],\n",
    "                                                name='context_words')\n",
    "            self._cooc_counts = tf.placeholder(tf.float32, shape=[self.batch_size],\n",
    "                                              name='cooccurrence_counts')\n",
    "            \n",
    "            # declare weight/embedding matrices\n",
    "            target_embeds = tf.Variable(tf.random_uniform([self.vocab_size, self.embed_size], 1.0, -1.0),\n",
    "                                       name='target_embeddings')\n",
    "            context_embeds = tf.Variable(tf.random_uniform([self.vocab_size, self.embed_size], 1.0, -1.0),\n",
    "                                       name='context_embeddings')\n",
    "            \n",
    "            target_biases = tf.Variable(tf.random_uniform([self.vocab_size], 1.0, -1.0),\n",
    "                                       name='target_biases')\n",
    "            context_biases = tf.Variable(tf.random_uniform([self.vocab_size], 1.0, -1.0),\n",
    "                                       name='context_biases')\n",
    "            \n",
    "            # lookup target/context embeddings\n",
    "            target_embed = tf.nn.embedding_lookup([target_embeds], self._target_words)\n",
    "            target_bias = tf.nn.embedding_lookup([target_biases], self._target_words)\n",
    "            context_embed = tf.nn.embedding_lookup([context_embeds], self._context_words)\n",
    "            context_bias = tf.nn.embedding_lookup([context_biases], self._context_words)\n",
    "            \n",
    "            # glove algorithm computations\n",
    "            # weighting factor f(x) of the cost fn. balances out the negative effect of rare and popular words\n",
    "            weighting_factor = tf.minimum(1.0, tf.pow(tf.div(self._cooc_counts, occur_max), alpha_factor))\n",
    "            embedding_product = tf.reduce_sum(tf.multiply(target_embed, context_embed), 1)\n",
    "            # distance between embeddings including their biases and the log cooccurrence count\n",
    "            embedding_distance = tf.square(embedding_product + target_bias + context_bias - tf.log(self._cooc_counts))\n",
    "            \n",
    "            # losses for each element in the batch\n",
    "            individual_losses = tf.multiply(weighting_factor, embedding_distance)\n",
    "            # average loss in the batch\n",
    "            self._total_loss = tf.reduce_sum(individual_losses)\n",
    "            # combined word embeddings\n",
    "            self._combined_embeddings = tf.add(target_embeds, context_embeds, name='combined_embeddings')\n",
    "            \n",
    "            # setup optimizer and logging\n",
    "            self._optimizer = tf.train.AdagradOptimizer(learning_rate).minimize(self._total_loss)\n",
    "            \n",
    "            tf.summary.scalar(\"GloVe_loss\", self._total_loss)\n",
    "            self._summary = tf.summary.merge_all()\n",
    "            \n",
    "            \n",
    "    def train(self, cooc_matrix, max_epochs=25, init_learning_rate=0.05, log_dir='./logs'):\n",
    "        print 'Initializing variables...'\n",
    "        self._setup_variables(init_learning_rate)\n",
    "        print 'Preparing batched data...'\n",
    "        data_batches = list(batchify_data(iterate_sparse_matrix(cooc_matrix), self.batch_size))\n",
    "        \n",
    "        training_step = 0\n",
    "        with tf.Session(graph=self._graph) as session:\n",
    "            tf.global_variables_initializer().run()\n",
    "            summary_writer = tf.summary.FileWriter(log_dir, graph=session.graph)\n",
    "            \n",
    "            for epoch in xrange(max_epochs):\n",
    "                random.shuffle(data_batches)\n",
    "                \n",
    "                epoch_loss = 0\n",
    "                for targets, contexts, coocs in tqdm(data_batches):\n",
    "                    if len(targets) != self.batch_size: continue\n",
    "                        \n",
    "                    feed_dict = {\n",
    "                        self._target_words: targets,\n",
    "                        self._context_words: contexts,\n",
    "                        self._cooc_counts: coocs\n",
    "                    }\n",
    "                    _, total_loss, summary_str = session.run([self._optimizer, self._total_loss, self._summary], \n",
    "                                                             feed_dict=feed_dict)\n",
    "                    if training_step % 5000 == 0:\n",
    "                        summary_writer.add_summary(summary_str, training_step)\n",
    "                        \n",
    "                    epoch_loss += total_loss\n",
    "                    training_step += 1\n",
    "                print 'Epoch {} - avg loss: {}'.format(epoch, epoch_loss / len(data_batches))\n",
    "                embeddings = self._combined_embeddings.eval()\n",
    "                embeddings /= np.linalg.norm(embeddings, axis=1).reshape(-1, 1)\n",
    "                self.word_embeddings = embeddings\n",
    "                \n",
    "            # combine and store word embeddings\n",
    "            embeddings = self._combined_embeddings.eval()\n",
    "            embeddings /= np.linalg.norm(embeddings, axis=1).reshape(-1, 1)\n",
    "            self.word_embeddings = embeddings"
   ]
  },
  {
   "cell_type": "markdown",
   "metadata": {},
   "source": [
    "#### Train and Inspect"
   ]
  },
  {
   "cell_type": "code",
   "execution_count": 9,
   "metadata": {},
   "outputs": [
    {
     "name": "stdout",
     "output_type": "stream",
     "text": [
      "Generating cooccurrence data\n",
      "Generating cooccurrence matrix\n",
      "Initializing variables...\n",
      "Preparing batched data...\n"
     ]
    },
    {
     "name": "stderr",
     "output_type": "stream",
     "text": [
      "100%|██████████| 1/1 [00:00<00:00, 5023.12it/s]\n",
      "100%|██████████| 1/1 [00:00<00:00, 4293.04it/s]\n",
      "100%|██████████| 1/1 [00:00<00:00, 5882.61it/s]\n",
      "100%|██████████| 1/1 [00:00<00:00, 6141.00it/s]\n",
      "100%|██████████| 1/1 [00:00<00:00, 7145.32it/s]\n",
      "100%|██████████| 1/1 [00:00<00:00, 5102.56it/s]\n",
      "100%|██████████| 1/1 [00:00<00:00, 4832.15it/s]\n",
      "100%|██████████| 1/1 [00:00<00:00, 1900.45it/s]\n",
      "100%|██████████| 1/1 [00:00<00:00, 3226.39it/s]\n",
      "100%|██████████| 1/1 [00:00<00:00, 4219.62it/s]\n",
      "100%|██████████| 1/1 [00:00<00:00, 5127.51it/s]\n",
      "100%|██████████| 1/1 [00:00<00:00, 7516.67it/s]\n",
      "100%|██████████| 1/1 [00:00<00:00, 2652.94it/s]\n",
      "100%|██████████| 1/1 [00:00<00:00, 3116.12it/s]\n",
      "100%|██████████| 1/1 [00:00<00:00, 7695.97it/s]\n",
      "100%|██████████| 1/1 [00:00<00:00, 7244.05it/s]\n",
      "100%|██████████| 1/1 [00:00<00:00, 5127.51it/s]\n",
      "100%|██████████| 1/1 [00:00<00:00, 1890.18it/s]\n",
      "100%|██████████| 1/1 [00:00<00:00, 7358.43it/s]\n",
      "100%|██████████| 1/1 [00:00<00:00, 3858.61it/s]\n",
      "100%|██████████| 1/1 [00:00<00:00, 5053.38it/s]\n",
      "100%|██████████| 1/1 [00:00<00:00, 2183.40it/s]\n",
      "100%|██████████| 1/1 [00:00<00:00, 3331.46it/s]\n",
      "100%|██████████| 1/1 [00:00<00:00, 6543.38it/s]\n",
      "100%|██████████| 1/1 [00:00<00:00, 6574.14it/s]\n"
     ]
    },
    {
     "name": "stdout",
     "output_type": "stream",
     "text": [
      "Epoch 0 - avg loss: 0.0\n",
      "Epoch 1 - avg loss: 0.0\n",
      "Epoch 2 - avg loss: 0.0\n",
      "Epoch 3 - avg loss: 0.0\n",
      "Epoch 4 - avg loss: 0.0\n",
      "Epoch 5 - avg loss: 0.0\n",
      "Epoch 6 - avg loss: 0.0\n",
      "Epoch 7 - avg loss: 0.0\n",
      "Epoch 8 - avg loss: 0.0\n",
      "Epoch 9 - avg loss: 0.0\n",
      "Epoch 10 - avg loss: 0.0\n",
      "Epoch 11 - avg loss: 0.0\n",
      "Epoch 12 - avg loss: 0.0\n",
      "Epoch 13 - avg loss: 0.0\n",
      "Epoch 14 - avg loss: 0.0\n",
      "Epoch 15 - avg loss: 0.0\n",
      "Epoch 16 - avg loss: 0.0\n",
      "Epoch 17 - avg loss: 0.0\n",
      "Epoch 18 - avg loss: 0.0\n",
      "Epoch 19 - avg loss: 0.0\n",
      "Epoch 20 - avg loss: 0.0\n",
      "Epoch 21 - avg loss: 0.0\n",
      "Epoch 22 - avg loss: 0.0\n",
      "Epoch 23 - avg loss: 0.0\n",
      "Epoch 24 - avg loss: 0.0\n"
     ]
    },
    {
     "name": "stderr",
     "output_type": "stream",
     "text": [
      "100%|██████████| 1/1 [00:00<00:00, 3401.71it/s]\n",
      "100%|██████████| 1/1 [00:00<00:00, 6326.25it/s]\n",
      "100%|██████████| 1/1 [00:00<00:00, 1685.81it/s]\n",
      "100%|██████████| 1/1 [00:00<00:00, 6710.89it/s]\n",
      "100%|██████████| 1/1 [00:00<00:00, 395.09it/s]\n",
      "100%|██████████| 1/1 [00:00<00:00, 679.79it/s]\n",
      "100%|██████████| 1/1 [00:00<00:00, 1795.51it/s]\n",
      "100%|██████████| 1/1 [00:00<00:00, 7358.43it/s]\n",
      "100%|██████████| 1/1 [00:00<00:00, 6615.62it/s]\n",
      "100%|██████████| 1/1 [00:00<00:00, 707.78it/s]\n",
      "100%|██████████| 1/1 [00:00<00:00, 2281.99it/s]\n",
      "100%|██████████| 1/1 [00:00<00:00, 1589.35it/s]\n",
      "100%|██████████| 1/1 [00:00<00:00, 3731.59it/s]\n",
      "100%|██████████| 1/1 [00:00<00:00, 2888.64it/s]\n",
      "100%|██████████| 1/1 [00:00<00:00, 9619.96it/s]\n",
      "100%|██████████| 1/1 [00:00<00:00, 6204.59it/s]\n",
      "100%|██████████| 1/1 [00:00<00:00, 2449.94it/s]\n",
      "100%|██████████| 1/1 [00:00<00:00, 3597.17it/s]\n",
      "100%|██████████| 1/1 [00:00<00:00, 805.82it/s]\n",
      "100%|██████████| 1/1 [00:00<00:00, 4424.37it/s]\n",
      "100%|██████████| 1/1 [00:00<00:00, 6533.18it/s]\n",
      "100%|██████████| 1/1 [00:00<00:00, 3983.19it/s]\n",
      "100%|██████████| 1/1 [00:00<00:00, 8256.50it/s]\n",
      "100%|██████████| 1/1 [00:00<00:00, 7752.87it/s]\n",
      "100%|██████████| 1/1 [00:00<00:00, 11650.84it/s]\n"
     ]
    },
    {
     "name": "stdout",
     "output_type": "stream",
     "text": [
      "Epoch 25 - avg loss: 0.0\n",
      "Epoch 26 - avg loss: 0.0\n",
      "Epoch 27 - avg loss: 0.0\n",
      "Epoch 28 - avg loss: 0.0\n",
      "Epoch 29 - avg loss: 0.0\n",
      "Epoch 30 - avg loss: 0.0\n",
      "Epoch 31 - avg loss: 0.0\n",
      "Epoch 32 - avg loss: 0.0\n",
      "Epoch 33 - avg loss: 0.0\n",
      "Epoch 34 - avg loss: 0.0\n",
      "Epoch 35 - avg loss: 0.0\n",
      "Epoch 36 - avg loss: 0.0\n",
      "Epoch 37 - avg loss: 0.0\n",
      "Epoch 38 - avg loss: 0.0\n",
      "Epoch 39 - avg loss: 0.0\n",
      "Epoch 40 - avg loss: 0.0\n",
      "Epoch 41 - avg loss: 0.0\n",
      "Epoch 42 - avg loss: 0.0\n",
      "Epoch 43 - avg loss: 0.0\n",
      "Epoch 44 - avg loss: 0.0\n",
      "Epoch 45 - avg loss: 0.0\n",
      "Epoch 46 - avg loss: 0.0\n",
      "Epoch 47 - avg loss: 0.0\n",
      "Epoch 48 - avg loss: 0.0\n",
      "Epoch 49 - avg loss: 0.0\n"
     ]
    }
   ],
   "source": [
    "WINDOW_SIZE = 5\n",
    "MAX_EPOCHS = 50\n",
    "EMBED_SIZE = 10\n",
    "VOCAB_SIZE = len(vocab)\n",
    "\n",
    "print 'Generating cooccurrence data'\n",
    "cooc_generator = generate_cooc_data(corpus_enc, bidir_window=False)\n",
    "print 'Generating cooccurrence matrix'\n",
    "cooc_matrix = build_cooc_matrix(cooc_generator, VOCAB_SIZE, WINDOW_SIZE, weight_fn=harmonic_weight)\n",
    "glove = GloVe(EMBED_SIZE, VOCAB_SIZE)\n",
    "glove.train(cooc_matrix, MAX_EPOCHS)"
   ]
  },
  {
   "cell_type": "code",
   "execution_count": 10,
   "metadata": {},
   "outputs": [
    {
     "name": "stdout",
     "output_type": "stream",
     "text": [
      "(20, 10)\n",
      "[('system', 0.79635644), ('i', 0.5991568), ('<unk>', 0.59339547), ('trees', 0.58150041), ('survey', 0.43870816)]\n"
     ]
    }
   ],
   "source": [
    "emb_glove = Embeddings(glove.word_embeddings, vocab_enc, vocab_dec)\n",
    "print glove.word_embeddings.shape\n",
    "print emb_glove.find_neighbors('graph', nearest=True)\n",
    "#print emb_glove.find_analogous('best', 'good', 'easy')"
   ]
  },
  {
   "cell_type": "code",
   "execution_count": null,
   "metadata": {
    "collapsed": true
   },
   "outputs": [],
   "source": [
    "plot_embeddings(glove.word_embeddings, vocab_dec, 10)"
   ]
  },
  {
   "cell_type": "code",
   "execution_count": null,
   "metadata": {
    "collapsed": true
   },
   "outputs": [],
   "source": [
    "file_name = 'g_airxs-{}ep-{}lr-{}win-{}sk-{}bat-{}emb.em'.format(MAX_EPOCHS, LEARNING_RATE, WINDOW_SIZE, SKIP_SIZE, BATCH_SIZE, EMBED_SIZE)\n",
    "save_embeddings(emb_glove, file_name)"
   ]
  },
  {
   "cell_type": "markdown",
   "metadata": {
    "collapsed": true
   },
   "source": [
    "## Experiments"
   ]
  },
  {
   "cell_type": "code",
   "execution_count": null,
   "metadata": {
    "collapsed": true
   },
   "outputs": [],
   "source": [
    "#embeddings_path = './embeddings/g_airs-25ep-1.0lr-5win-1sk-256bat-50emb.em'\n",
    "#embeddings_path = './embeddings/g_airs-25ep-1.0lr-5win-1sk-256bat-100emb.em'\n",
    "#embeddings_path = './embeddings/w2v-airs-5ep-1.0lr-5win-1sk-256bat-50emb.em'\n",
    "embeddings_path = './embeddings/w2v-airs-5ep-1.0lr-5win-1sk-256bat-100emb.em'\n",
    "\n",
    "emb = load_embeddings(embeddings_path)\n",
    "#emb2 = Embeddings(emb._embeddings, emb._vocab_enc, emb._vocab_dec)\n",
    "#save_embeddings(emb2, embeddings_path)\n",
    "\n",
    "emb._embeddings.shape"
   ]
  },
  {
   "cell_type": "code",
   "execution_count": null,
   "metadata": {
    "collapsed": true
   },
   "outputs": [],
   "source": [
    "test_vocab = ['bathroom', 'kitchen', 'bedroom', 'garage', 'garden', 'patio',\n",
    "             'roger', 'anne', 'emily', 'tom', 'david', 'caroline', 'dean', 'greg',\n",
    "             'diner', 'restaurant', 'bar', 'cafe', 'pub', 'club',\n",
    "             'cozy', 'clean', 'warm', 'pretty', 'welcoming', 'homelike',\n",
    "             'american', 'german', 'polish', 'spanish', 'irish', 'russian',\n",
    "             'berlin', 'seattle', 'london', 'amsterdam', 'miami',\n",
    "             'suffered', 'talked', 'round', 'worn', 'run', 'staples']"
   ]
  },
  {
   "cell_type": "code",
   "execution_count": null,
   "metadata": {
    "collapsed": true
   },
   "outputs": [],
   "source": [
    "plot_embeddings(emb, words=test_vocab, method='pca')"
   ]
  },
  {
   "cell_type": "code",
   "execution_count": null,
   "metadata": {
    "collapsed": true
   },
   "outputs": [],
   "source": [
    "emb.find_analogous('best', 'good', 'hot')"
   ]
  },
  {
   "cell_type": "code",
   "execution_count": null,
   "metadata": {
    "collapsed": true
   },
   "outputs": [],
   "source": [
    "emb.find_analogous('cleanest', 'clean', 'good')"
   ]
  },
  {
   "cell_type": "code",
   "execution_count": null,
   "metadata": {
    "collapsed": true
   },
   "outputs": [],
   "source": [
    "emb.find_analogous('king', 'man', 'woman')"
   ]
  },
  {
   "cell_type": "code",
   "execution_count": null,
   "metadata": {
    "collapsed": true
   },
   "outputs": [],
   "source": [
    "emb.find_neighbors('bathroom')"
   ]
  },
  {
   "cell_type": "code",
   "execution_count": null,
   "metadata": {
    "collapsed": true
   },
   "outputs": [],
   "source": [
    "emb.find_neighbors('car')"
   ]
  },
  {
   "cell_type": "code",
   "execution_count": null,
   "metadata": {
    "collapsed": true
   },
   "outputs": [],
   "source": [
    "emb.find_neighbors('view')"
   ]
  },
  {
   "cell_type": "code",
   "execution_count": null,
   "metadata": {
    "collapsed": true
   },
   "outputs": [],
   "source": []
  }
 ],
 "metadata": {
  "kernelspec": {
   "display_name": "Python 2",
   "language": "python",
   "name": "python2"
  },
  "language_info": {
   "codemirror_mode": {
    "name": "ipython",
    "version": 2
   },
   "file_extension": ".py",
   "mimetype": "text/x-python",
   "name": "python",
   "nbconvert_exporter": "python",
   "pygments_lexer": "ipython2",
   "version": "2.7.13"
  }
 },
 "nbformat": 4,
 "nbformat_minor": 2
}
